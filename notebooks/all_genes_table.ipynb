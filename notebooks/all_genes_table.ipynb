{
 "cells": [
  {
   "cell_type": "code",
   "execution_count": 5,
   "id": "4c1ae2da",
   "metadata": {
    "scrolled": true
   },
   "outputs": [],
   "source": [
    "import pandas as pd\n",
    "from Bio import SeqIO\n",
    "import os"
   ]
  },
  {
   "cell_type": "code",
   "execution_count": 6,
   "id": "c2a87d93",
   "metadata": {
    "scrolled": true
   },
   "outputs": [],
   "source": [
    "direct = r'C:\\Users\\79113.LAPTOP-H2I5ULGA\\Documents\\GitHub\\bacter\\Body\\1Raw\\all_genes_aa'\n",
    "dirname = os.listdir(direct)"
   ]
  },
  {
   "cell_type": "code",
   "execution_count": 7,
   "id": "5c52144b",
   "metadata": {},
   "outputs": [],
   "source": [
    "bacteria_test = pd.DataFrame()"
   ]
  },
  {
   "cell_type": "code",
   "execution_count": 8,
   "id": "8dae62ce",
   "metadata": {},
   "outputs": [
    {
     "data": {
      "text/html": [
       "<div>\n",
       "<style scoped>\n",
       "    .dataframe tbody tr th:only-of-type {\n",
       "        vertical-align: middle;\n",
       "    }\n",
       "\n",
       "    .dataframe tbody tr th {\n",
       "        vertical-align: top;\n",
       "    }\n",
       "\n",
       "    .dataframe thead th {\n",
       "        text-align: right;\n",
       "    }\n",
       "</style>\n",
       "<table border=\"1\" class=\"dataframe\">\n",
       "  <thead>\n",
       "    <tr style=\"text-align: right;\">\n",
       "      <th></th>\n",
       "      <th>Species</th>\n",
       "      <th>Gene</th>\n",
       "      <th>Sequence</th>\n",
       "    </tr>\n",
       "  </thead>\n",
       "  <tbody>\n",
       "    <tr>\n",
       "      <th>0</th>\n",
       "      <td>Enterobacteria phage</td>\n",
       "      <td>alt</td>\n",
       "      <td>MKSSLRFLGQELVVEGVIPADNAFNEAVYDEFIKIFGTDKKFGIFP...</td>\n",
       "    </tr>\n",
       "    <tr>\n",
       "      <th>1</th>\n",
       "      <td>Enterobacteria phage</td>\n",
       "      <td>alt</td>\n",
       "      <td>MMHIVMIGVNEKLSLVKLKNLGGNPIGVINAVFDTALQTMKQYKID...</td>\n",
       "    </tr>\n",
       "    <tr>\n",
       "      <th>2</th>\n",
       "      <td>Enterobacteria phage</td>\n",
       "      <td>alt</td>\n",
       "      <td>MELITELFDGASAPVVTLNPKHKIPQIFAIQAGEESVLPGFRFCTY...</td>\n",
       "    </tr>\n",
       "    <tr>\n",
       "      <th>3</th>\n",
       "      <td>Enterobacteria phage</td>\n",
       "      <td>alt</td>\n",
       "      <td>MELITELFDEDTTLPITNLYPKKKIPQIFSVHVDDAIEQPGFRLCT...</td>\n",
       "    </tr>\n",
       "    <tr>\n",
       "      <th>4</th>\n",
       "      <td>Enterobacteria phage</td>\n",
       "      <td>alt</td>\n",
       "      <td>MKAYLETIVVAQKEGGDVSTSVSQIMIEFIDAYAYNKFTETFDAYE...</td>\n",
       "    </tr>\n",
       "    <tr>\n",
       "      <th>...</th>\n",
       "      <td>...</td>\n",
       "      <td>...</td>\n",
       "      <td>...</td>\n",
       "    </tr>\n",
       "    <tr>\n",
       "      <th>6359</th>\n",
       "      <td>Pyrococcus chitonophagus</td>\n",
       "      <td>trpB</td>\n",
       "      <td>MKVVLPDGKIPRKWYNILPDLPEPLAPPLDPETNEPINPEKLKRIF...</td>\n",
       "    </tr>\n",
       "    <tr>\n",
       "      <th>6360</th>\n",
       "      <td>Desulfobacteraceae bacterium</td>\n",
       "      <td>trpB</td>\n",
       "      <td>CALFGLECKVYMVRISYNQKPYRRLMMETWGATCVASPSNETNAGR...</td>\n",
       "    </tr>\n",
       "    <tr>\n",
       "      <th>6361</th>\n",
       "      <td>Sterolibacterium denitrificans</td>\n",
       "      <td>trpB</td>\n",
       "      <td>MENIRIQLDASEIPTHWYNVVADMPKPPAPPLGPDGQPVAAEKMLE...</td>\n",
       "    </tr>\n",
       "    <tr>\n",
       "      <th>6362</th>\n",
       "      <td>Aminipila sp.</td>\n",
       "      <td>trpB</td>\n",
       "      <td>MNKMKNIPHRLYLTEEQMPKQWYNLRADMKEQPDPIINPATGKPAI...</td>\n",
       "    </tr>\n",
       "    <tr>\n",
       "      <th>6363</th>\n",
       "      <td>Nocardioides sp.</td>\n",
       "      <td>trpB</td>\n",
       "      <td>LHERAGQLHPRAERGADPLVQHRGGPADAPAPPLHPATHQPVGPDD...</td>\n",
       "    </tr>\n",
       "  </tbody>\n",
       "</table>\n",
       "<p>6364 rows × 3 columns</p>\n",
       "</div>"
      ],
      "text/plain": [
       "                             Species  Gene  \\\n",
       "0               Enterobacteria phage   alt   \n",
       "1               Enterobacteria phage   alt   \n",
       "2               Enterobacteria phage   alt   \n",
       "3               Enterobacteria phage   alt   \n",
       "4               Enterobacteria phage   alt   \n",
       "...                              ...   ...   \n",
       "6359        Pyrococcus chitonophagus  trpB   \n",
       "6360    Desulfobacteraceae bacterium  trpB   \n",
       "6361  Sterolibacterium denitrificans  trpB   \n",
       "6362                   Aminipila sp.  trpB   \n",
       "6363                Nocardioides sp.  trpB   \n",
       "\n",
       "                                               Sequence  \n",
       "0     MKSSLRFLGQELVVEGVIPADNAFNEAVYDEFIKIFGTDKKFGIFP...  \n",
       "1     MMHIVMIGVNEKLSLVKLKNLGGNPIGVINAVFDTALQTMKQYKID...  \n",
       "2     MELITELFDGASAPVVTLNPKHKIPQIFAIQAGEESVLPGFRFCTY...  \n",
       "3     MELITELFDEDTTLPITNLYPKKKIPQIFSVHVDDAIEQPGFRLCT...  \n",
       "4     MKAYLETIVVAQKEGGDVSTSVSQIMIEFIDAYAYNKFTETFDAYE...  \n",
       "...                                                 ...  \n",
       "6359  MKVVLPDGKIPRKWYNILPDLPEPLAPPLDPETNEPINPEKLKRIF...  \n",
       "6360  CALFGLECKVYMVRISYNQKPYRRLMMETWGATCVASPSNETNAGR...  \n",
       "6361  MENIRIQLDASEIPTHWYNVVADMPKPPAPPLGPDGQPVAAEKMLE...  \n",
       "6362  MNKMKNIPHRLYLTEEQMPKQWYNLRADMKEQPDPIINPATGKPAI...  \n",
       "6363  LHERAGQLHPRAERGADPLVQHRGGPADAPAPPLHPATHQPVGPDD...  \n",
       "\n",
       "[6364 rows x 3 columns]"
      ]
     },
     "execution_count": 8,
     "metadata": {},
     "output_type": "execute_result"
    }
   ],
   "source": [
    "species = []\n",
    "gene = []\n",
    "aaseq = []\n",
    "\n",
    "\n",
    "for file in dirname:\n",
    "    try:\n",
    "        for seq_record in SeqIO.parse((os.path.join(direct, file)), 'fasta'):\n",
    "            gene.append(file.split('.')[0])\n",
    "            aaseq.append(str(seq_record.seq)) \n",
    "            desc = seq_record.description\n",
    "            if str(desc.split('[')[-1]).startswith('Ga') == True:\n",
    "                species.append(' '.join(desc.split('[')[-1].split(' : ')[-1].split(' ')[0:2]))\n",
    "            else:\n",
    "                species.append(' '.join(desc.split('[')[-1].split(' ')[0:2]))\n",
    "    except:\n",
    "        pass\n",
    "    \n",
    "    \n",
    "bacteria_test['Species'] = species\n",
    "bacteria_test['Gene'] = gene\n",
    "bacteria_test['Sequence'] = aaseq\n",
    "bacteria_test"
   ]
  },
  {
   "cell_type": "code",
   "execution_count": 32,
   "id": "4cbcf5f1",
   "metadata": {},
   "outputs": [],
   "source": [
    "bacteria_test.to_csv(r'C:\\Users\\79113.LAPTOP-H2I5ULGA\\Documents\\GitHub\\bacter\\Body\\2Derived\\all_genes_test.csv', sep='\\t')"
   ]
  },
  {
   "cell_type": "code",
   "execution_count": null,
   "id": "ae38e80c",
   "metadata": {},
   "outputs": [],
   "source": []
  }
 ],
 "metadata": {
  "kernelspec": {
   "display_name": "Python 3",
   "language": "python",
   "name": "python3"
  },
  "language_info": {
   "codemirror_mode": {
    "name": "ipython",
    "version": 3
   },
   "file_extension": ".py",
   "mimetype": "text/x-python",
   "name": "python",
   "nbconvert_exporter": "python",
   "pygments_lexer": "ipython3",
   "version": "3.8.8"
  }
 },
 "nbformat": 4,
 "nbformat_minor": 5
}
