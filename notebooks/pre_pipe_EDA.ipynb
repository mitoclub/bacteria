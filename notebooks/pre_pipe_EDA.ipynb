{
 "cells": [
  {
   "cell_type": "code",
   "execution_count": 1,
   "metadata": {},
   "outputs": [],
   "source": [
    "import numpy as np\n",
    "import pandas as pd\n",
    "import matplotlib.pyplot as plt"
   ]
  },
  {
   "cell_type": "code",
   "execution_count": 2,
   "metadata": {},
   "outputs": [
    {
     "data": {
      "text/html": [
       "<div>\n",
       "<style scoped>\n",
       "    .dataframe tbody tr th:only-of-type {\n",
       "        vertical-align: middle;\n",
       "    }\n",
       "\n",
       "    .dataframe tbody tr th {\n",
       "        vertical-align: top;\n",
       "    }\n",
       "\n",
       "    .dataframe thead th {\n",
       "        text-align: right;\n",
       "    }\n",
       "</style>\n",
       "<table border=\"1\" class=\"dataframe\">\n",
       "  <thead>\n",
       "    <tr style=\"text-align: right;\">\n",
       "      <th></th>\n",
       "      <th>Species</th>\n",
       "      <th>Gene</th>\n",
       "      <th>Sequence</th>\n",
       "    </tr>\n",
       "  </thead>\n",
       "  <tbody>\n",
       "    <tr>\n",
       "      <th>0</th>\n",
       "      <td>Acinetobacter baumannii</td>\n",
       "      <td>glyA</td>\n",
       "      <td>MFANISISEFDPELAQAIASEDERQEAHIELIASENYCSPAVMEAQ...</td>\n",
       "    </tr>\n",
       "    <tr>\n",
       "      <th>1</th>\n",
       "      <td>Clostridium kluyveri</td>\n",
       "      <td>gmk</td>\n",
       "      <td>MDKIVCLVGESGSGKSTITELLEKEGYNYIQSYTTRKPRFEGEKGH...</td>\n",
       "    </tr>\n",
       "    <tr>\n",
       "      <th>2</th>\n",
       "      <td>Lactobacillus rhamnosus</td>\n",
       "      <td>gmk</td>\n",
       "      <td>MKAAHKLIVITGATGTGKTTVSAYLRDNYRIHRVMTHTTRPPRTGE...</td>\n",
       "    </tr>\n",
       "    <tr>\n",
       "      <th>3</th>\n",
       "      <td>Lactobacillus casei</td>\n",
       "      <td>gmk</td>\n",
       "      <td>MKAAHKLIVITGATGTGKTTVSGYLRDNYRIHRVMTHTTRPARTGE...</td>\n",
       "    </tr>\n",
       "    <tr>\n",
       "      <th>4</th>\n",
       "      <td>Pseudomonas putida</td>\n",
       "      <td>gmk</td>\n",
       "      <td>MIFLVGPSGSGKDSLIDASREQLAAAGVEIARRVITRSAEAKGEAA...</td>\n",
       "    </tr>\n",
       "  </tbody>\n",
       "</table>\n",
       "</div>"
      ],
      "text/plain": [
       "                   Species  Gene  \\\n",
       "0  Acinetobacter baumannii  glyA   \n",
       "1     Clostridium kluyveri   gmk   \n",
       "2  Lactobacillus rhamnosus   gmk   \n",
       "3      Lactobacillus casei   gmk   \n",
       "4       Pseudomonas putida   gmk   \n",
       "\n",
       "                                            Sequence  \n",
       "0  MFANISISEFDPELAQAIASEDERQEAHIELIASENYCSPAVMEAQ...  \n",
       "1  MDKIVCLVGESGSGKSTITELLEKEGYNYIQSYTTRKPRFEGEKGH...  \n",
       "2  MKAAHKLIVITGATGTGKTTVSAYLRDNYRIHRVMTHTTRPPRTGE...  \n",
       "3  MKAAHKLIVITGATGTGKTTVSGYLRDNYRIHRVMTHTTRPARTGE...  \n",
       "4  MIFLVGPSGSGKDSLIDASREQLAAAGVEIARRVITRSAEAKGEAA...  "
      ]
     },
     "execution_count": 2,
     "metadata": {},
     "output_type": "execute_result"
    }
   ],
   "source": [
    "df = pd.read_csv(\"../data/2Derived/bacteria_to_pipeline.csv\")\n",
    "df.head()"
   ]
  },
  {
   "cell_type": "code",
   "execution_count": 6,
   "metadata": {},
   "outputs": [
    {
     "data": {
      "text/plain": [
       "Acinetobacter baumannii        11\n",
       "Clostridium acetobutylicum      7\n",
       "Salmonella enterica             6\n",
       "Pseudomonas fluorescens         6\n",
       "Bacillus cereus                 5\n",
       "                               ..\n",
       "Chloroflexus aggregans          1\n",
       "Candidatus Methanosphaerula     1\n",
       "Candidatus Accumulibacter       1\n",
       "Archaeoglobus profundus         1\n",
       "Yersinia enterocolitica         1\n",
       "Name: Species, Length: 136, dtype: int64"
      ]
     },
     "execution_count": 6,
     "metadata": {},
     "output_type": "execute_result"
    }
   ],
   "source": [
    "df.Species.value_counts()"
   ]
  },
  {
   "cell_type": "code",
   "execution_count": 8,
   "metadata": {},
   "outputs": [
    {
     "data": {
      "text/plain": [
       "FtsQ      61\n",
       "FtsA      56\n",
       "dksA      45\n",
       "RNase     40\n",
       "hsp-60    39\n",
       "trpB      24\n",
       "mdoG      19\n",
       "rpoB      14\n",
       "Lrp        7\n",
       "gmk        4\n",
       "atpD       4\n",
       "LptB       4\n",
       "gyrB       2\n",
       "glyA       1\n",
       "pykA       1\n",
       "DHFR       1\n",
       "Name: Gene, dtype: int64"
      ]
     },
     "execution_count": 8,
     "metadata": {},
     "output_type": "execute_result"
    }
   ],
   "source": [
    "df.Gene.value_counts()"
   ]
  },
  {
   "cell_type": "code",
   "execution_count": 11,
   "metadata": {},
   "outputs": [
    {
     "data": {
      "image/png": "[encoded data removed]",
      "text/plain": [
       "<Figure size 432x288 with 1 Axes>"
      ]
     },
     "metadata": {
      "needs_background": "light"
     },
     "output_type": "display_data"
    }
   ],
   "source": [
    "df.Sequence.str.len().hist(bins=100);"
   ]
  },
  {
   "cell_type": "code",
   "execution_count": 27,
   "metadata": {},
   "outputs": [],
   "source": [
    "df[\"Header\"] = \">\" + df.Species.str.replace(\" \", \"_\") + \" \" + df.Gene\n",
    "\n",
    "df[[\"Header\", \"Sequence\"]].to_csv(\"../data/2Derived/seqs.fasta\", index=None, header=None, sep=\"\\n\")"
   ]
  },
  {
   "cell_type": "code",
   "execution_count": null,
   "metadata": {},
   "outputs": [],
   "source": []
  },
  {
   "cell_type": "code",
   "execution_count": null,
   "metadata": {},
   "outputs": [],
   "source": []
  },
  {
   "cell_type": "code",
   "execution_count": null,
   "metadata": {},
   "outputs": [],
   "source": []
  }
 ],
 "metadata": {
  "interpreter": {
   "hash": "faab97b70612bf02f352dc992d51cfde0491124dee3610712001439afebe5dcb"
  },
  "kernelspec": {
   "display_name": "Python 3.8.10 ('env_bio')",
   "language": "python",
   "name": "python3"
  },
  "language_info": {
   "codemirror_mode": {
    "name": "ipython",
    "version": 3
   },
   "file_extension": ".py",
   "mimetype": "text/x-python",
   "name": "python",
   "nbconvert_exporter": "python",
   "pygments_lexer": "ipython3",
   "version": "3.8.10"
  },
  "orig_nbformat": 4
 },
 "nbformat": 4,
 "nbformat_minor": 2
}
